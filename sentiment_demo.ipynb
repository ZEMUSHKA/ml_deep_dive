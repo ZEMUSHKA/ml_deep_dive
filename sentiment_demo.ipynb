{
 "cells": [
  {
   "cell_type": "markdown",
   "metadata": {},
   "source": [
    "# Оценка эмоциональной окраски сообщений"
   ]
  },
  {
   "cell_type": "code",
   "execution_count": 1,
   "metadata": {
    "collapsed": true
   },
   "outputs": [],
   "source": [
    "import pandas as pd\n",
    "import numpy as np\n",
    "from sklearn.linear_model import LogisticRegression, LogisticRegressionCV\n",
    "from sklearn.model_selection import train_test_split, GridSearchCV\n",
    "from sklearn.metrics import accuracy_score\n",
    "from sklearn.metrics import classification_report\n",
    "from sklearn.feature_extraction.text import TfidfVectorizer\n",
    "from collections import Counter\n",
    "%config IPCompleter.greedy = True"
   ]
  },
  {
   "cell_type": "markdown",
   "metadata": {},
   "source": [
    "## Загрузка данных"
   ]
  },
  {
   "cell_type": "code",
   "execution_count": 2,
   "metadata": {
    "collapsed": true
   },
   "outputs": [],
   "source": [
    "data = pd.read_excel('banki_data_sigma.xlsx')"
   ]
  },
  {
   "cell_type": "code",
   "execution_count": 3,
   "metadata": {},
   "outputs": [
    {
     "data": {
      "text/html": [
       "<div>\n",
       "<style>\n",
       "    .dataframe thead tr:only-child th {\n",
       "        text-align: right;\n",
       "    }\n",
       "\n",
       "    .dataframe thead th {\n",
       "        text-align: left;\n",
       "    }\n",
       "\n",
       "    .dataframe tbody tr th {\n",
       "        vertical-align: top;\n",
       "    }\n",
       "</style>\n",
       "<table border=\"1\" class=\"dataframe\">\n",
       "  <thead>\n",
       "    <tr style=\"text-align: right;\">\n",
       "      <th></th>\n",
       "      <th>text</th>\n",
       "      <th>label</th>\n",
       "    </tr>\n",
       "  </thead>\n",
       "  <tbody>\n",
       "    <tr>\n",
       "      <th>0</th>\n",
       "      <td>отвратительное обслуживание был у меня вклад в...</td>\n",
       "      <td>0</td>\n",
       "    </tr>\n",
       "    <tr>\n",
       "      <th>1</th>\n",
       "      <td>мнение о банке изменилось в худшую сторону это...</td>\n",
       "      <td>0</td>\n",
       "    </tr>\n",
       "    <tr>\n",
       "      <th>2</th>\n",
       "      <td>банк поступил красиво у меня дебетовая карта б...</td>\n",
       "      <td>1</td>\n",
       "    </tr>\n",
       "    <tr>\n",
       "      <th>3</th>\n",
       "      <td>прошу принять меры по исправлению ситуации бан...</td>\n",
       "      <td>0</td>\n",
       "    </tr>\n",
       "    <tr>\n",
       "      <th>4</th>\n",
       "      <td>спокойно и качественно пользуюсь услугами сигм...</td>\n",
       "      <td>1</td>\n",
       "    </tr>\n",
       "  </tbody>\n",
       "</table>\n",
       "</div>"
      ],
      "text/plain": [
       "                                                text  label\n",
       "0  отвратительное обслуживание был у меня вклад в...      0\n",
       "1  мнение о банке изменилось в худшую сторону это...      0\n",
       "2  банк поступил красиво у меня дебетовая карта б...      1\n",
       "3  прошу принять меры по исправлению ситуации бан...      0\n",
       "4  спокойно и качественно пользуюсь услугами сигм...      1"
      ]
     },
     "execution_count": 3,
     "metadata": {},
     "output_type": "execute_result"
    }
   ],
   "source": [
    "# 5 примеров строк\n",
    "data.head(5)"
   ]
  },
  {
   "cell_type": "code",
   "execution_count": 4,
   "metadata": {},
   "outputs": [
    {
     "name": "stdout",
     "output_type": "stream",
     "text": [
      "отвратительное обслуживание был у меня вклад в сигме. решила я его перевести в другой банк. был открыт экспресс-счет. зная как работают сотрудники колл-центра сигмы и насколько они квалифицированы, я позвонила 4 раза разным менеджерам, уточнить комиссию при переводе. всеми ими была озвучена цифра в 2000 руб. (максимальная при переводе с экспресс счета в другой банк).  будучи в офисе до замоскворечье 02 декабря, консультируясь по вопросу вкладов и переводов с сотрудником ириной м. (к сожалению, не записала фамилию), ею была озвучена также цифра в 2000 руб. придя в банк  07/12/15  для осуществления данного перевода, сотрудником с-ским д.е. была озвучена цифра в 23000 руб.! на 21000 больше! его коллега (маленькая худенькая девчушка, к сожалению, в силу эмоционального состояния не записала ее имя) также начала мне доказывать, что комиссия за данную операцию именно 23 тыс.руб. на аргументы о 4-х сотрудниках колл-центра и о сотруднике этого же отделения, они вдвоем хлопали ресницами и настаивали на данной сумме. в итоге пошли искать ирину м. проведя где-то более получаса, вернулись и сообщили о том, что эти изменения приняты 2 декабря. на минутку, на дворе уже 7 декабря, 14 часов дня! дмитрий обосновал это тем, что работа у них посменная (раз в 5 дней?!) и поэтому он бедняга не успел прочитать новые тарифы на банковское обслуживание клиентов. при этом никаких извинений принесено мне не было.  я все понимаю, но если ты работаешь в банковском обслуживании, ежедневно обслуживаешь клиентов, ты обязан в первую очередь прочитать все новые положения и только после этого приступать к своим обязанностям! в данном случае считаю, что сигма-банк просто тупо хотел снять с меня лишние 21 тыс. не знаю какая там схема у ваших сотрудников по доп.зароботку, но такое отношение не допустимо! если вы ставите на обслуживание клиентов неквалифицированных сотрудников, о каком уважении к клиенту может идти речь?! при этом там таких недовольных за час, проведенный в банке, я насчитала еще 3 человек! я являюсь клиентом с 2012 года. у меня и кредитка, и вклады были валютные и рублевые, данный банк считала одним из лучших. но в последний год обслуживание клиентов снизилось с 10 до 0. после таких историй вообще не хочется быть вашим клиентом. есть банки на рынке с более уважительным отношением и выгодными ставками.\n"
     ]
    }
   ],
   "source": [
    "# пример отзыва\n",
    "print data.text[0]"
   ]
  },
  {
   "cell_type": "markdown",
   "metadata": {},
   "source": [
    "## Размеры классов"
   ]
  },
  {
   "cell_type": "code",
   "execution_count": 5,
   "metadata": {},
   "outputs": [
    {
     "data": {
      "text/html": [
       "<div>\n",
       "<style>\n",
       "    .dataframe thead tr:only-child th {\n",
       "        text-align: right;\n",
       "    }\n",
       "\n",
       "    .dataframe thead th {\n",
       "        text-align: left;\n",
       "    }\n",
       "\n",
       "    .dataframe tbody tr th {\n",
       "        vertical-align: top;\n",
       "    }\n",
       "</style>\n",
       "<table border=\"1\" class=\"dataframe\">\n",
       "  <thead>\n",
       "    <tr style=\"text-align: right;\">\n",
       "      <th></th>\n",
       "      <th>text</th>\n",
       "    </tr>\n",
       "    <tr>\n",
       "      <th>label</th>\n",
       "      <th></th>\n",
       "    </tr>\n",
       "  </thead>\n",
       "  <tbody>\n",
       "    <tr>\n",
       "      <th>0</th>\n",
       "      <td>4921</td>\n",
       "    </tr>\n",
       "    <tr>\n",
       "      <th>1</th>\n",
       "      <td>1150</td>\n",
       "    </tr>\n",
       "  </tbody>\n",
       "</table>\n",
       "</div>"
      ],
      "text/plain": [
       "       text\n",
       "label      \n",
       "0      4921\n",
       "1      1150"
      ]
     },
     "execution_count": 5,
     "metadata": {},
     "output_type": "execute_result"
    }
   ],
   "source": [
    "data.groupby(\"label\").count()"
   ]
  },
  {
   "cell_type": "markdown",
   "metadata": {},
   "source": [
    "## Наиболее часто встречающиеся слова"
   ]
  },
  {
   "cell_type": "code",
   "execution_count": 6,
   "metadata": {},
   "outputs": [
    {
     "name": "stdout",
     "output_type": "stream",
     "text": [
      "в 9637\n",
      "и 8819\n",
      "не 5484\n",
      "на 4745\n",
      "что 3961\n",
      "я 3719\n",
      "с 3593\n",
      "- 2796\n",
      "по 2427\n",
      "мне 1960\n"
     ]
    }
   ],
   "source": [
    "# для позитивных отзывов\n",
    "positive_reviews = ' '.join(data.text[data.label == 1])\n",
    "positive_counter = Counter(positive_reviews.split())\n",
    "\n",
    "for word in positive_counter.most_common(10):\n",
    "    print word[0], word[1]"
   ]
  },
  {
   "cell_type": "code",
   "execution_count": 7,
   "metadata": {},
   "outputs": [
    {
     "name": "stdout",
     "output_type": "stream",
     "text": [
      "в 53074\n",
      "и 43768\n",
      "не 36077\n",
      "на 28249\n",
      "что 27191\n",
      "я 26467\n",
      "с 18591\n",
      "мне 14603\n",
      "по 14069\n",
      "- 13632\n"
     ]
    }
   ],
   "source": [
    "# для негативных\n",
    "negative_reviews = ' '.join(data.text[data.label == 0])\n",
    "negative_counter = Counter(negative_reviews.split())\n",
    "\n",
    "for word in negative_counter.most_common(10):\n",
    "    print word[0], word[1]"
   ]
  },
  {
   "cell_type": "markdown",
   "metadata": {},
   "source": [
    "## Обучаем первую модель"
   ]
  },
  {
   "cell_type": "code",
   "execution_count": 8,
   "metadata": {},
   "outputs": [
    {
     "name": "stdout",
     "output_type": "stream",
     "text": [
      "(6071, 72051)\n"
     ]
    }
   ],
   "source": [
    "# преобразуем текст в числа\n",
    "tfidf = TfidfVectorizer()\n",
    "f = tfidf.fit_transform(data[\"text\"])\n",
    "print f.shape"
   ]
  },
  {
   "cell_type": "code",
   "execution_count": 9,
   "metadata": {},
   "outputs": [
    {
     "data": {
      "text/html": [
       "<div>\n",
       "<style>\n",
       "    .dataframe thead tr:only-child th {\n",
       "        text-align: right;\n",
       "    }\n",
       "\n",
       "    .dataframe thead th {\n",
       "        text-align: left;\n",
       "    }\n",
       "\n",
       "    .dataframe tbody tr th {\n",
       "        vertical-align: top;\n",
       "    }\n",
       "</style>\n",
       "<table border=\"1\" class=\"dataframe\">\n",
       "  <thead>\n",
       "    <tr style=\"text-align: right;\">\n",
       "      <th></th>\n",
       "      <th>00</th>\n",
       "      <th>000</th>\n",
       "      <th>0000</th>\n",
       "      <th>00000</th>\n",
       "      <th>00034</th>\n",
       "      <th>00079700</th>\n",
       "      <th>0008</th>\n",
       "      <th>000р</th>\n",
       "      <th>001</th>\n",
       "      <th>0015</th>\n",
       "      <th>...</th>\n",
       "      <th>ящичках</th>\n",
       "      <th>ящичке</th>\n",
       "      <th>яя</th>\n",
       "      <th>яяявно</th>\n",
       "      <th>ёе</th>\n",
       "      <th>ёлке</th>\n",
       "      <th>ёлы</th>\n",
       "      <th>ёпрст</th>\n",
       "      <th>ёрничать</th>\n",
       "      <th>ёё</th>\n",
       "    </tr>\n",
       "  </thead>\n",
       "  <tbody>\n",
       "    <tr>\n",
       "      <th>0</th>\n",
       "      <td>0.00000</td>\n",
       "      <td>0.0</td>\n",
       "      <td>0.0</td>\n",
       "      <td>0.0</td>\n",
       "      <td>0.0</td>\n",
       "      <td>0.0</td>\n",
       "      <td>0.0</td>\n",
       "      <td>0.0</td>\n",
       "      <td>0.0</td>\n",
       "      <td>0.0</td>\n",
       "      <td>...</td>\n",
       "      <td>0.0</td>\n",
       "      <td>0.0</td>\n",
       "      <td>0.0</td>\n",
       "      <td>0.0</td>\n",
       "      <td>0.0</td>\n",
       "      <td>0.0</td>\n",
       "      <td>0.0</td>\n",
       "      <td>0.0</td>\n",
       "      <td>0.0</td>\n",
       "      <td>0.0</td>\n",
       "    </tr>\n",
       "    <tr>\n",
       "      <th>1</th>\n",
       "      <td>0.19893</td>\n",
       "      <td>0.0</td>\n",
       "      <td>0.0</td>\n",
       "      <td>0.0</td>\n",
       "      <td>0.0</td>\n",
       "      <td>0.0</td>\n",
       "      <td>0.0</td>\n",
       "      <td>0.0</td>\n",
       "      <td>0.0</td>\n",
       "      <td>0.0</td>\n",
       "      <td>...</td>\n",
       "      <td>0.0</td>\n",
       "      <td>0.0</td>\n",
       "      <td>0.0</td>\n",
       "      <td>0.0</td>\n",
       "      <td>0.0</td>\n",
       "      <td>0.0</td>\n",
       "      <td>0.0</td>\n",
       "      <td>0.0</td>\n",
       "      <td>0.0</td>\n",
       "      <td>0.0</td>\n",
       "    </tr>\n",
       "    <tr>\n",
       "      <th>2</th>\n",
       "      <td>0.00000</td>\n",
       "      <td>0.0</td>\n",
       "      <td>0.0</td>\n",
       "      <td>0.0</td>\n",
       "      <td>0.0</td>\n",
       "      <td>0.0</td>\n",
       "      <td>0.0</td>\n",
       "      <td>0.0</td>\n",
       "      <td>0.0</td>\n",
       "      <td>0.0</td>\n",
       "      <td>...</td>\n",
       "      <td>0.0</td>\n",
       "      <td>0.0</td>\n",
       "      <td>0.0</td>\n",
       "      <td>0.0</td>\n",
       "      <td>0.0</td>\n",
       "      <td>0.0</td>\n",
       "      <td>0.0</td>\n",
       "      <td>0.0</td>\n",
       "      <td>0.0</td>\n",
       "      <td>0.0</td>\n",
       "    </tr>\n",
       "    <tr>\n",
       "      <th>3</th>\n",
       "      <td>0.00000</td>\n",
       "      <td>0.0</td>\n",
       "      <td>0.0</td>\n",
       "      <td>0.0</td>\n",
       "      <td>0.0</td>\n",
       "      <td>0.0</td>\n",
       "      <td>0.0</td>\n",
       "      <td>0.0</td>\n",
       "      <td>0.0</td>\n",
       "      <td>0.0</td>\n",
       "      <td>...</td>\n",
       "      <td>0.0</td>\n",
       "      <td>0.0</td>\n",
       "      <td>0.0</td>\n",
       "      <td>0.0</td>\n",
       "      <td>0.0</td>\n",
       "      <td>0.0</td>\n",
       "      <td>0.0</td>\n",
       "      <td>0.0</td>\n",
       "      <td>0.0</td>\n",
       "      <td>0.0</td>\n",
       "    </tr>\n",
       "    <tr>\n",
       "      <th>4</th>\n",
       "      <td>0.00000</td>\n",
       "      <td>0.0</td>\n",
       "      <td>0.0</td>\n",
       "      <td>0.0</td>\n",
       "      <td>0.0</td>\n",
       "      <td>0.0</td>\n",
       "      <td>0.0</td>\n",
       "      <td>0.0</td>\n",
       "      <td>0.0</td>\n",
       "      <td>0.0</td>\n",
       "      <td>...</td>\n",
       "      <td>0.0</td>\n",
       "      <td>0.0</td>\n",
       "      <td>0.0</td>\n",
       "      <td>0.0</td>\n",
       "      <td>0.0</td>\n",
       "      <td>0.0</td>\n",
       "      <td>0.0</td>\n",
       "      <td>0.0</td>\n",
       "      <td>0.0</td>\n",
       "      <td>0.0</td>\n",
       "    </tr>\n",
       "  </tbody>\n",
       "</table>\n",
       "<p>5 rows × 72051 columns</p>\n",
       "</div>"
      ],
      "text/plain": [
       "        00  000  0000  00000  00034  00079700  0008  000р  001  0015 ...   \\\n",
       "0  0.00000  0.0   0.0    0.0    0.0       0.0   0.0   0.0  0.0   0.0 ...    \n",
       "1  0.19893  0.0   0.0    0.0    0.0       0.0   0.0   0.0  0.0   0.0 ...    \n",
       "2  0.00000  0.0   0.0    0.0    0.0       0.0   0.0   0.0  0.0   0.0 ...    \n",
       "3  0.00000  0.0   0.0    0.0    0.0       0.0   0.0   0.0  0.0   0.0 ...    \n",
       "4  0.00000  0.0   0.0    0.0    0.0       0.0   0.0   0.0  0.0   0.0 ...    \n",
       "\n",
       "   ящичках  ящичке   яя  яяявно   ёе  ёлке  ёлы  ёпрст  ёрничать   ёё  \n",
       "0      0.0     0.0  0.0     0.0  0.0   0.0  0.0    0.0       0.0  0.0  \n",
       "1      0.0     0.0  0.0     0.0  0.0   0.0  0.0    0.0       0.0  0.0  \n",
       "2      0.0     0.0  0.0     0.0  0.0   0.0  0.0    0.0       0.0  0.0  \n",
       "3      0.0     0.0  0.0     0.0  0.0   0.0  0.0    0.0       0.0  0.0  \n",
       "4      0.0     0.0  0.0     0.0  0.0   0.0  0.0    0.0       0.0  0.0  \n",
       "\n",
       "[5 rows x 72051 columns]"
      ]
     },
     "execution_count": 9,
     "metadata": {},
     "output_type": "execute_result"
    }
   ],
   "source": [
    "pd.DataFrame(f[:5, :].todense(), columns=tfidf.get_feature_names()).head()"
   ]
  },
  {
   "cell_type": "code",
   "execution_count": 10,
   "metadata": {},
   "outputs": [
    {
     "name": "stdout",
     "output_type": "stream",
     "text": [
      "CPU times: user 7.67 s, sys: 226 ms, total: 7.9 s\n",
      "Wall time: 8.62 s\n"
     ]
    }
   ],
   "source": [
    "%%time\n",
    "# делим на обучение и тест\n",
    "trX, teX, trY, teY, trDF, teDF = train_test_split(\n",
    "    f, data[\"label\"], data, test_size=0.2, stratify=data[\"label\"], random_state=42\n",
    ")\n",
    "clf = LogisticRegressionCV(penalty='l2', cv=4, n_jobs=1, solver='liblinear')\n",
    "clf.fit(trX, trY)"
   ]
  },
  {
   "cell_type": "code",
   "execution_count": 11,
   "metadata": {
    "collapsed": true
   },
   "outputs": [],
   "source": [
    "# добавляем колонку с вероятностью положительного отзыва\n",
    "teDF = teDF.copy()\n",
    "teDF[\"predicted_proba\"] = map(str, clf.predict_proba(tfidf.transform(teDF[\"text\"]))[:, 1])"
   ]
  },
  {
   "cell_type": "code",
   "execution_count": 12,
   "metadata": {},
   "outputs": [
    {
     "data": {
      "text/html": [
       "<div>\n",
       "<style>\n",
       "    .dataframe thead tr:only-child th {\n",
       "        text-align: right;\n",
       "    }\n",
       "\n",
       "    .dataframe thead th {\n",
       "        text-align: left;\n",
       "    }\n",
       "\n",
       "    .dataframe tbody tr th {\n",
       "        vertical-align: top;\n",
       "    }\n",
       "</style>\n",
       "<table border=\"1\" class=\"dataframe\">\n",
       "  <thead>\n",
       "    <tr style=\"text-align: right;\">\n",
       "      <th></th>\n",
       "      <th>text</th>\n",
       "      <th>label</th>\n",
       "      <th>predicted_proba</th>\n",
       "    </tr>\n",
       "  </thead>\n",
       "  <tbody>\n",
       "    <tr>\n",
       "      <th>1864</th>\n",
       "      <td>здравствуйте! являюсь клиентом банка уже мног...</td>\n",
       "      <td>0</td>\n",
       "      <td>0.00286325566485</td>\n",
       "    </tr>\n",
       "    <tr>\n",
       "      <th>2666</th>\n",
       "      <td>проблема при получении справки о закрытии кред...</td>\n",
       "      <td>0</td>\n",
       "      <td>0.097255931984</td>\n",
       "    </tr>\n",
       "    <tr>\n",
       "      <th>6014</th>\n",
       "      <td>согласен!!! полностью поддерживаю димитрия!!! ...</td>\n",
       "      <td>0</td>\n",
       "      <td>0.620411770872</td>\n",
       "    </tr>\n",
       "    <tr>\n",
       "      <th>4367</th>\n",
       "      <td>вымогательство денег пользовался кредитной кар...</td>\n",
       "      <td>0</td>\n",
       "      <td>0.00129370420101</td>\n",
       "    </tr>\n",
       "    <tr>\n",
       "      <th>1326</th>\n",
       "      <td>дают неверные реквизиты счета было необходимо ...</td>\n",
       "      <td>0</td>\n",
       "      <td>0.00081806394855</td>\n",
       "    </tr>\n",
       "    <tr>\n",
       "      <th>4483</th>\n",
       "      <td>услуга сигма-чек здравствуйте. как я посмотрю,...</td>\n",
       "      <td>0</td>\n",
       "      <td>0.00103480256902</td>\n",
       "    </tr>\n",
       "    <tr>\n",
       "      <th>3114</th>\n",
       "      <td>навязывание услуг уже несколько лет являюсь кл...</td>\n",
       "      <td>0</td>\n",
       "      <td>0.0136346614423</td>\n",
       "    </tr>\n",
       "    <tr>\n",
       "      <th>3346</th>\n",
       "      <td>даже железобетонному терпению когда-то приходи...</td>\n",
       "      <td>0</td>\n",
       "      <td>0.00208515742497</td>\n",
       "    </tr>\n",
       "    <tr>\n",
       "      <th>5892</th>\n",
       "      <td>очень доволен банком в мае этого года взял тех...</td>\n",
       "      <td>1</td>\n",
       "      <td>0.999865741146</td>\n",
       "    </tr>\n",
       "    <tr>\n",
       "      <th>1673</th>\n",
       "      <td>не предупрежден - не вооружен, даже нагло обма...</td>\n",
       "      <td>0</td>\n",
       "      <td>0.000225690422633</td>\n",
       "    </tr>\n",
       "  </tbody>\n",
       "</table>\n",
       "</div>"
      ],
      "text/plain": [
       "                                                   text  label  \\\n",
       "1864   здравствуйте! являюсь клиентом банка уже мног...      0   \n",
       "2666  проблема при получении справки о закрытии кред...      0   \n",
       "6014  согласен!!! полностью поддерживаю димитрия!!! ...      0   \n",
       "4367  вымогательство денег пользовался кредитной кар...      0   \n",
       "1326  дают неверные реквизиты счета было необходимо ...      0   \n",
       "4483  услуга сигма-чек здравствуйте. как я посмотрю,...      0   \n",
       "3114  навязывание услуг уже несколько лет являюсь кл...      0   \n",
       "3346  даже железобетонному терпению когда-то приходи...      0   \n",
       "5892  очень доволен банком в мае этого года взял тех...      1   \n",
       "1673  не предупрежден - не вооружен, даже нагло обма...      0   \n",
       "\n",
       "        predicted_proba  \n",
       "1864   0.00286325566485  \n",
       "2666     0.097255931984  \n",
       "6014     0.620411770872  \n",
       "4367   0.00129370420101  \n",
       "1326   0.00081806394855  \n",
       "4483   0.00103480256902  \n",
       "3114    0.0136346614423  \n",
       "3346   0.00208515742497  \n",
       "5892     0.999865741146  \n",
       "1673  0.000225690422633  "
      ]
     },
     "execution_count": 12,
     "metadata": {},
     "output_type": "execute_result"
    }
   ],
   "source": [
    "teDF.tail(10)"
   ]
  },
  {
   "cell_type": "markdown",
   "metadata": {},
   "source": [
    "## Потестируем модель"
   ]
  },
  {
   "cell_type": "code",
   "execution_count": 13,
   "metadata": {},
   "outputs": [
    {
     "data": {
      "text/plain": [
       "array([ 0.99999848])"
      ]
     },
     "execution_count": 13,
     "metadata": {},
     "output_type": "execute_result"
    }
   ],
   "source": [
    "clf.predict_proba(tfidf.transform([u\"как всегда плохо спасибо\"]))[:,1]"
   ]
  },
  {
   "cell_type": "code",
   "execution_count": 14,
   "metadata": {},
   "outputs": [
    {
     "data": {
      "text/plain": [
       "array([ 0.06402277])"
      ]
     },
     "execution_count": 14,
     "metadata": {},
     "output_type": "execute_result"
    }
   ],
   "source": [
    "clf.predict_proba(tfidf.transform([u\"ужасно\"]))[:,1]"
   ]
  },
  {
   "cell_type": "code",
   "execution_count": 15,
   "metadata": {},
   "outputs": [
    {
     "data": {
      "text/plain": [
       "array([ 0.11384584])"
      ]
     },
     "execution_count": 15,
     "metadata": {},
     "output_type": "execute_result"
    }
   ],
   "source": [
    "clf.predict_proba(tfidf.transform([u\"плохо\"]))[:,1]"
   ]
  },
  {
   "cell_type": "code",
   "execution_count": 16,
   "metadata": {},
   "outputs": [
    {
     "data": {
      "text/plain": [
       "array([ 0.76318487])"
      ]
     },
     "execution_count": 16,
     "metadata": {},
     "output_type": "execute_result"
    }
   ],
   "source": [
    "clf.predict_proba(tfidf.transform([u\"помогли\"]))[:,1]"
   ]
  },
  {
   "cell_type": "markdown",
   "metadata": {},
   "source": [
    "## Формальные метрики качества"
   ]
  },
  {
   "cell_type": "code",
   "execution_count": 17,
   "metadata": {},
   "outputs": [
    {
     "name": "stdout",
     "output_type": "stream",
     "text": [
      "train accuracy: 1.0\n",
      "test accuracy: 0.921810699588\n"
     ]
    }
   ],
   "source": [
    "print \"train accuracy:\", accuracy_score(trY, clf.predict(trX))\n",
    "print \"test accuracy:\", accuracy_score(teY, clf.predict(teX))"
   ]
  },
  {
   "cell_type": "code",
   "execution_count": 18,
   "metadata": {},
   "outputs": [
    {
     "name": "stdout",
     "output_type": "stream",
     "text": [
      "             precision    recall  f1-score   support\n",
      "\n",
      "          0       0.96      0.93      0.94       985\n",
      "          1       0.73      0.84      0.78       230\n",
      "\n",
      "avg / total       0.92      0.91      0.91      1215\n",
      "\n"
     ]
    }
   ],
   "source": [
    "print classification_report(teY, clf.predict_proba(teX)[:,1] > 0.1)"
   ]
  },
  {
   "cell_type": "markdown",
   "metadata": {},
   "source": [
    "## Посмотрим на веса модели"
   ]
  },
  {
   "cell_type": "code",
   "execution_count": 19,
   "metadata": {
    "collapsed": true
   },
   "outputs": [],
   "source": [
    "coefs = sorted(zip(list(np.array(tfidf.get_feature_names())[clf.coef_[0] != 0]), clf.coef_[0][clf.coef_[0] != 0]),\n",
    "               key=lambda x: -x[1])\n",
    "coefs = pd.DataFrame(coefs, columns=[\"ngram\", \"weight\"])"
   ]
  },
  {
   "cell_type": "code",
   "execution_count": 20,
   "metadata": {
    "scrolled": true
   },
   "outputs": [
    {
     "data": {
      "text/html": [
       "<div>\n",
       "<style>\n",
       "    .dataframe thead tr:only-child th {\n",
       "        text-align: right;\n",
       "    }\n",
       "\n",
       "    .dataframe thead th {\n",
       "        text-align: left;\n",
       "    }\n",
       "\n",
       "    .dataframe tbody tr th {\n",
       "        vertical-align: top;\n",
       "    }\n",
       "</style>\n",
       "<table border=\"1\" class=\"dataframe\">\n",
       "  <thead>\n",
       "    <tr style=\"text-align: right;\">\n",
       "      <th></th>\n",
       "      <th>ngram</th>\n",
       "      <th>weight</th>\n",
       "    </tr>\n",
       "  </thead>\n",
       "  <tbody>\n",
       "    <tr>\n",
       "      <th>0</th>\n",
       "      <td>спасибо</td>\n",
       "      <td>26.388012</td>\n",
       "    </tr>\n",
       "    <tr>\n",
       "      <th>1</th>\n",
       "      <td>благодарность</td>\n",
       "      <td>15.489216</td>\n",
       "    </tr>\n",
       "    <tr>\n",
       "      <th>2</th>\n",
       "      <td>быстро</td>\n",
       "      <td>14.156494</td>\n",
       "    </tr>\n",
       "    <tr>\n",
       "      <th>3</th>\n",
       "      <td>приятно</td>\n",
       "      <td>13.197226</td>\n",
       "    </tr>\n",
       "    <tr>\n",
       "      <th>4</th>\n",
       "      <td>очень</td>\n",
       "      <td>11.756937</td>\n",
       "    </tr>\n",
       "    <tr>\n",
       "      <th>5</th>\n",
       "      <td>проблем</td>\n",
       "      <td>10.847594</td>\n",
       "    </tr>\n",
       "    <tr>\n",
       "      <th>6</th>\n",
       "      <td>доволен</td>\n",
       "      <td>9.726652</td>\n",
       "    </tr>\n",
       "    <tr>\n",
       "      <th>7</th>\n",
       "      <td>оперативно</td>\n",
       "      <td>9.689212</td>\n",
       "    </tr>\n",
       "    <tr>\n",
       "      <th>8</th>\n",
       "      <td>нравится</td>\n",
       "      <td>9.520648</td>\n",
       "    </tr>\n",
       "    <tr>\n",
       "      <th>9</th>\n",
       "      <td>понравилось</td>\n",
       "      <td>8.750875</td>\n",
       "    </tr>\n",
       "    <tr>\n",
       "      <th>10</th>\n",
       "      <td>оперативность</td>\n",
       "      <td>8.446281</td>\n",
       "    </tr>\n",
       "    <tr>\n",
       "      <th>11</th>\n",
       "      <td>помощь</td>\n",
       "      <td>8.306924</td>\n",
       "    </tr>\n",
       "    <tr>\n",
       "      <th>12</th>\n",
       "      <td>поблагодарить</td>\n",
       "      <td>8.247405</td>\n",
       "    </tr>\n",
       "    <tr>\n",
       "      <th>13</th>\n",
       "      <td>большое</td>\n",
       "      <td>7.996200</td>\n",
       "    </tr>\n",
       "    <tr>\n",
       "      <th>14</th>\n",
       "      <td>целом</td>\n",
       "      <td>7.888269</td>\n",
       "    </tr>\n",
       "    <tr>\n",
       "      <th>15</th>\n",
       "      <td>оценка</td>\n",
       "      <td>7.602181</td>\n",
       "    </tr>\n",
       "    <tr>\n",
       "      <th>16</th>\n",
       "      <td>удобно</td>\n",
       "      <td>7.573683</td>\n",
       "    </tr>\n",
       "    <tr>\n",
       "      <th>17</th>\n",
       "      <td>выразить</td>\n",
       "      <td>7.369817</td>\n",
       "    </tr>\n",
       "    <tr>\n",
       "      <th>18</th>\n",
       "      <td>отзыв</td>\n",
       "      <td>7.309860</td>\n",
       "    </tr>\n",
       "    <tr>\n",
       "      <th>19</th>\n",
       "      <td>отлично</td>\n",
       "      <td>7.245208</td>\n",
       "    </tr>\n",
       "    <tr>\n",
       "      <th>20</th>\n",
       "      <td>особенно</td>\n",
       "      <td>7.197643</td>\n",
       "    </tr>\n",
       "    <tr>\n",
       "      <th>21</th>\n",
       "      <td>положительный</td>\n",
       "      <td>6.991528</td>\n",
       "    </tr>\n",
       "    <tr>\n",
       "      <th>22</th>\n",
       "      <td>все</td>\n",
       "      <td>6.989600</td>\n",
       "    </tr>\n",
       "    <tr>\n",
       "      <th>23</th>\n",
       "      <td>удобный</td>\n",
       "      <td>6.968745</td>\n",
       "    </tr>\n",
       "    <tr>\n",
       "      <th>24</th>\n",
       "      <td>было</td>\n",
       "      <td>6.968269</td>\n",
       "    </tr>\n",
       "    <tr>\n",
       "      <th>25</th>\n",
       "      <td>решение</td>\n",
       "      <td>6.953960</td>\n",
       "    </tr>\n",
       "    <tr>\n",
       "      <th>26</th>\n",
       "      <td>минусов</td>\n",
       "      <td>6.719823</td>\n",
       "    </tr>\n",
       "    <tr>\n",
       "      <th>27</th>\n",
       "      <td>оперативное</td>\n",
       "      <td>6.614562</td>\n",
       "    </tr>\n",
       "    <tr>\n",
       "      <th>28</th>\n",
       "      <td>всегда</td>\n",
       "      <td>6.606177</td>\n",
       "    </tr>\n",
       "    <tr>\n",
       "      <th>29</th>\n",
       "      <td>отметить</td>\n",
       "      <td>6.548605</td>\n",
       "    </tr>\n",
       "  </tbody>\n",
       "</table>\n",
       "</div>"
      ],
      "text/plain": [
       "            ngram     weight\n",
       "0         спасибо  26.388012\n",
       "1   благодарность  15.489216\n",
       "2          быстро  14.156494\n",
       "3         приятно  13.197226\n",
       "4           очень  11.756937\n",
       "5         проблем  10.847594\n",
       "6         доволен   9.726652\n",
       "7      оперативно   9.689212\n",
       "8        нравится   9.520648\n",
       "9     понравилось   8.750875\n",
       "10  оперативность   8.446281\n",
       "11         помощь   8.306924\n",
       "12  поблагодарить   8.247405\n",
       "13        большое   7.996200\n",
       "14          целом   7.888269\n",
       "15         оценка   7.602181\n",
       "16         удобно   7.573683\n",
       "17       выразить   7.369817\n",
       "18          отзыв   7.309860\n",
       "19        отлично   7.245208\n",
       "20       особенно   7.197643\n",
       "21  положительный   6.991528\n",
       "22            все   6.989600\n",
       "23        удобный   6.968745\n",
       "24           было   6.968269\n",
       "25        решение   6.953960\n",
       "26        минусов   6.719823\n",
       "27    оперативное   6.614562\n",
       "28         всегда   6.606177\n",
       "29       отметить   6.548605"
      ]
     },
     "execution_count": 20,
     "metadata": {},
     "output_type": "execute_result"
    }
   ],
   "source": [
    "coefs.head(30)"
   ]
  },
  {
   "cell_type": "code",
   "execution_count": 21,
   "metadata": {
    "scrolled": true
   },
   "outputs": [
    {
     "data": {
      "text/html": [
       "<div>\n",
       "<style>\n",
       "    .dataframe thead tr:only-child th {\n",
       "        text-align: right;\n",
       "    }\n",
       "\n",
       "    .dataframe thead th {\n",
       "        text-align: left;\n",
       "    }\n",
       "\n",
       "    .dataframe tbody tr th {\n",
       "        vertical-align: top;\n",
       "    }\n",
       "</style>\n",
       "<table border=\"1\" class=\"dataframe\">\n",
       "  <thead>\n",
       "    <tr style=\"text-align: right;\">\n",
       "      <th></th>\n",
       "      <th>ngram</th>\n",
       "      <th>weight</th>\n",
       "    </tr>\n",
       "  </thead>\n",
       "  <tbody>\n",
       "    <tr>\n",
       "      <th>64238</th>\n",
       "      <td>не</td>\n",
       "      <td>-8.347115</td>\n",
       "    </tr>\n",
       "    <tr>\n",
       "      <th>64237</th>\n",
       "      <td>клиентов</td>\n",
       "      <td>-7.508055</td>\n",
       "    </tr>\n",
       "    <tr>\n",
       "      <th>64236</th>\n",
       "      <td>ответ</td>\n",
       "      <td>-7.236294</td>\n",
       "    </tr>\n",
       "    <tr>\n",
       "      <th>64235</th>\n",
       "      <td>вы</td>\n",
       "      <td>-7.017829</td>\n",
       "    </tr>\n",
       "    <tr>\n",
       "      <th>64234</th>\n",
       "      <td>говорят</td>\n",
       "      <td>-6.857047</td>\n",
       "    </tr>\n",
       "    <tr>\n",
       "      <th>64233</th>\n",
       "      <td>звонки</td>\n",
       "      <td>-6.399363</td>\n",
       "    </tr>\n",
       "    <tr>\n",
       "      <th>64232</th>\n",
       "      <td>потом</td>\n",
       "      <td>-5.777867</td>\n",
       "    </tr>\n",
       "    <tr>\n",
       "      <th>64231</th>\n",
       "      <td>нет</td>\n",
       "      <td>-5.644717</td>\n",
       "    </tr>\n",
       "    <tr>\n",
       "      <th>64230</th>\n",
       "      <td>никто</td>\n",
       "      <td>-5.631515</td>\n",
       "    </tr>\n",
       "    <tr>\n",
       "      <th>64229</th>\n",
       "      <td>евро</td>\n",
       "      <td>-5.271084</td>\n",
       "    </tr>\n",
       "    <tr>\n",
       "      <th>64228</th>\n",
       "      <td>ошибку</td>\n",
       "      <td>-5.151158</td>\n",
       "    </tr>\n",
       "    <tr>\n",
       "      <th>64227</th>\n",
       "      <td>опять</td>\n",
       "      <td>-5.064435</td>\n",
       "    </tr>\n",
       "    <tr>\n",
       "      <th>64226</th>\n",
       "      <td>что</td>\n",
       "      <td>-4.931270</td>\n",
       "    </tr>\n",
       "    <tr>\n",
       "      <th>64225</th>\n",
       "      <td>чтобы</td>\n",
       "      <td>-4.832317</td>\n",
       "    </tr>\n",
       "    <tr>\n",
       "      <th>64224</th>\n",
       "      <td>комиссию</td>\n",
       "      <td>-4.828856</td>\n",
       "    </tr>\n",
       "    <tr>\n",
       "      <th>64223</th>\n",
       "      <td>видимо</td>\n",
       "      <td>-4.737495</td>\n",
       "    </tr>\n",
       "    <tr>\n",
       "      <th>64222</th>\n",
       "      <td>11</td>\n",
       "      <td>-4.718324</td>\n",
       "    </tr>\n",
       "    <tr>\n",
       "      <th>64221</th>\n",
       "      <td>получить</td>\n",
       "      <td>-4.713998</td>\n",
       "    </tr>\n",
       "    <tr>\n",
       "      <th>64220</th>\n",
       "      <td>хуже</td>\n",
       "      <td>-4.636198</td>\n",
       "    </tr>\n",
       "    <tr>\n",
       "      <th>64219</th>\n",
       "      <td>завтра</td>\n",
       "      <td>-4.603891</td>\n",
       "    </tr>\n",
       "    <tr>\n",
       "      <th>64218</th>\n",
       "      <td>дата</td>\n",
       "      <td>-4.587318</td>\n",
       "    </tr>\n",
       "    <tr>\n",
       "      <th>64217</th>\n",
       "      <td>зачем</td>\n",
       "      <td>-4.555757</td>\n",
       "    </tr>\n",
       "    <tr>\n",
       "      <th>64216</th>\n",
       "      <td>нельзя</td>\n",
       "      <td>-4.460843</td>\n",
       "    </tr>\n",
       "    <tr>\n",
       "      <th>64215</th>\n",
       "      <td>банкоматов</td>\n",
       "      <td>-4.443474</td>\n",
       "    </tr>\n",
       "    <tr>\n",
       "      <th>64214</th>\n",
       "      <td>04</td>\n",
       "      <td>-4.432233</td>\n",
       "    </tr>\n",
       "    <tr>\n",
       "      <th>64213</th>\n",
       "      <td>меню</td>\n",
       "      <td>-4.393989</td>\n",
       "    </tr>\n",
       "    <tr>\n",
       "      <th>64212</th>\n",
       "      <td>теперь</td>\n",
       "      <td>-4.387707</td>\n",
       "    </tr>\n",
       "    <tr>\n",
       "      <th>64211</th>\n",
       "      <td>они</td>\n",
       "      <td>-4.347216</td>\n",
       "    </tr>\n",
       "    <tr>\n",
       "      <th>64210</th>\n",
       "      <td>заблуждение</td>\n",
       "      <td>-4.329670</td>\n",
       "    </tr>\n",
       "    <tr>\n",
       "      <th>64209</th>\n",
       "      <td>прошло</td>\n",
       "      <td>-4.326254</td>\n",
       "    </tr>\n",
       "  </tbody>\n",
       "</table>\n",
       "</div>"
      ],
      "text/plain": [
       "             ngram    weight\n",
       "64238           не -8.347115\n",
       "64237     клиентов -7.508055\n",
       "64236        ответ -7.236294\n",
       "64235           вы -7.017829\n",
       "64234      говорят -6.857047\n",
       "64233       звонки -6.399363\n",
       "64232        потом -5.777867\n",
       "64231          нет -5.644717\n",
       "64230        никто -5.631515\n",
       "64229         евро -5.271084\n",
       "64228       ошибку -5.151158\n",
       "64227        опять -5.064435\n",
       "64226          что -4.931270\n",
       "64225        чтобы -4.832317\n",
       "64224     комиссию -4.828856\n",
       "64223       видимо -4.737495\n",
       "64222           11 -4.718324\n",
       "64221     получить -4.713998\n",
       "64220         хуже -4.636198\n",
       "64219       завтра -4.603891\n",
       "64218         дата -4.587318\n",
       "64217        зачем -4.555757\n",
       "64216       нельзя -4.460843\n",
       "64215   банкоматов -4.443474\n",
       "64214           04 -4.432233\n",
       "64213         меню -4.393989\n",
       "64212       теперь -4.387707\n",
       "64211          они -4.347216\n",
       "64210  заблуждение -4.329670\n",
       "64209       прошло -4.326254"
      ]
     },
     "execution_count": 21,
     "metadata": {},
     "output_type": "execute_result"
    }
   ],
   "source": [
    "coefs.tail(30)[::-1]"
   ]
  },
  {
   "cell_type": "markdown",
   "metadata": {
    "collapsed": true
   },
   "source": [
    "## Как улучшить качество модели?\n",
    "* Фильтрация стоп-слов\n",
    "* Приведение слов к нормальной форме\n",
    "* Генерация дополнительных признаков: статистики на основе пар слов, n-gramm, длина отзыва и пр.\n",
    "* Рассмотрение других моделей\n",
    "* Настройка параметров моделей"
   ]
  },
  {
   "cell_type": "markdown",
   "metadata": {},
   "source": [
    "## Попробуем фильтровать стоп-слова"
   ]
  },
  {
   "cell_type": "code",
   "execution_count": 22,
   "metadata": {
    "collapsed": true
   },
   "outputs": [],
   "source": [
    "# посчитаем встречаемость всех слов\n",
    "all_words = ' '.join(data.text)\n",
    "word_counts = Counter(all_words.split())"
   ]
  },
  {
   "cell_type": "code",
   "execution_count": 23,
   "metadata": {
    "scrolled": true
   },
   "outputs": [
    {
     "name": "stdout",
     "output_type": "stream",
     "text": [
      "в 62711\n",
      "и 52587\n",
      "не 41561\n",
      "на 32994\n",
      "что 31152\n",
      "я 30186\n",
      "с 22184\n",
      "мне 16563\n",
      "по 16496\n",
      "- 16428\n",
      "а 10098\n",
      "за 9621\n",
      "меня 9301\n",
      "как 9224\n",
      "но 9141\n",
      "это 8794\n",
      "у 8177\n",
      "все 7756\n",
      "о 7581\n",
      "банка 7026\n"
     ]
    }
   ],
   "source": [
    "# самые встречаемые\n",
    "for word in word_counts.most_common(20):\n",
    "    print word[0], word[1]"
   ]
  },
  {
   "cell_type": "code",
   "execution_count": 24,
   "metadata": {},
   "outputs": [
    {
     "name": "stdout",
     "output_type": "stream",
     "text": [
      "(потратила 1\n",
      "(зп-клиент). 1\n",
      "(тяжело, 1\n",
      "\"сигма-хранителем\"? 1\n",
      "а-мобайл 1\n",
      "функционировал 1\n",
      "«массовый 1\n",
      "вынужденной 1\n",
      "ростов-на-дону). 1\n",
      "предусматривающие 1\n",
      "сухого: 1\n",
      "подозрения): 1\n",
      "возвращена). 1\n",
      "подчеркнула 1\n",
      "сделать!), 1\n",
      "трансфер 1\n",
      "ленточка: 1\n",
      "(http://www.banki.ru/services/questions-answers/?questionid=7582990) 1\n",
      "уголовниками. 1\n",
      "городских, 1\n"
     ]
    }
   ],
   "source": [
    "# наименее встречаемые\n",
    "for word in sorted(word_counts.items(), key=lambda x: x[1])[:20]:\n",
    "    print word[0], word[1]"
   ]
  },
  {
   "cell_type": "code",
   "execution_count": 25,
   "metadata": {
    "collapsed": true
   },
   "outputs": [],
   "source": [
    "good_words = [word for word, count in word_counts.items() if 10 <= count <= 7000]"
   ]
  },
  {
   "cell_type": "code",
   "execution_count": 26,
   "metadata": {},
   "outputs": [
    {
     "name": "stdout",
     "output_type": "stream",
     "text": [
      "(6071, 14130)\n"
     ]
    }
   ],
   "source": [
    "tfidf = TfidfVectorizer(vocabulary=good_words)\n",
    "f = tfidf.fit_transform(data[\"text\"])\n",
    "print f.shape"
   ]
  },
  {
   "cell_type": "code",
   "execution_count": 27,
   "metadata": {},
   "outputs": [
    {
     "name": "stdout",
     "output_type": "stream",
     "text": [
      "CPU times: user 5.94 s, sys: 163 ms, total: 6.11 s\n",
      "Wall time: 7.23 s\n"
     ]
    }
   ],
   "source": [
    "%%time\n",
    "# делим на обучение и тест\n",
    "trX, teX, trY, teY, trDF, teDF = train_test_split(\n",
    "    f, data[\"label\"], data, test_size=0.2, stratify=data[\"label\"], random_state=42\n",
    ")\n",
    "clf = LogisticRegressionCV(penalty='l2', cv=4, n_jobs=1, solver='liblinear')\n",
    "clf.fit(trX, trY)"
   ]
  },
  {
   "cell_type": "code",
   "execution_count": 28,
   "metadata": {},
   "outputs": [
    {
     "name": "stdout",
     "output_type": "stream",
     "text": [
      "train accuracy: 1.0\n",
      "test accuracy: 0.925925925926\n"
     ]
    }
   ],
   "source": [
    "print \"train accuracy:\", accuracy_score(trY, clf.predict(trX))\n",
    "print \"test accuracy:\", accuracy_score(teY, clf.predict(teX))"
   ]
  },
  {
   "cell_type": "markdown",
   "metadata": {},
   "source": [
    "## Добавим словосочетания"
   ]
  },
  {
   "cell_type": "code",
   "execution_count": 29,
   "metadata": {},
   "outputs": [
    {
     "name": "stdout",
     "output_type": "stream",
     "text": [
      "(6071, 27051)\n"
     ]
    }
   ],
   "source": [
    "tfidf = TfidfVectorizer(min_df=10, max_df=7000, ngram_range=(1, 2))\n",
    "f = tfidf.fit_transform(data[\"text\"])\n",
    "print f.shape"
   ]
  },
  {
   "cell_type": "code",
   "execution_count": 30,
   "metadata": {},
   "outputs": [
    {
     "name": "stdout",
     "output_type": "stream",
     "text": [
      "CPU times: user 8.19 s, sys: 236 ms, total: 8.43 s\n",
      "Wall time: 9.03 s\n"
     ]
    }
   ],
   "source": [
    "%%time\n",
    "# делим на обучение и тест\n",
    "trX, teX, trY, teY, trDF, teDF = train_test_split(\n",
    "    f, data[\"label\"], data, test_size=0.2, stratify=data[\"label\"], random_state=42\n",
    ")\n",
    "clf = LogisticRegressionCV(penalty='l2', cv=4, n_jobs=1, solver='liblinear')\n",
    "clf.fit(trX, trY)"
   ]
  },
  {
   "cell_type": "code",
   "execution_count": 31,
   "metadata": {},
   "outputs": [
    {
     "name": "stdout",
     "output_type": "stream",
     "text": [
      "train accuracy: 1.0\n",
      "test accuracy: 0.930864197531\n"
     ]
    }
   ],
   "source": [
    "print \"train accuracy:\", accuracy_score(trY, clf.predict(trX))\n",
    "print \"test accuracy:\", accuracy_score(teY, clf.predict(teX))"
   ]
  },
  {
   "cell_type": "code",
   "execution_count": 32,
   "metadata": {
    "collapsed": true
   },
   "outputs": [],
   "source": [
    "coefs = sorted(zip(list(np.array(tfidf.get_feature_names())[clf.coef_[0] != 0]), clf.coef_[0][clf.coef_[0] != 0]),\n",
    "               key=lambda x: -x[1])\n",
    "coefs = pd.DataFrame(coefs, columns=[\"ngram\", \"weight\"])"
   ]
  },
  {
   "cell_type": "code",
   "execution_count": 33,
   "metadata": {
    "scrolled": true
   },
   "outputs": [
    {
     "data": {
      "text/html": [
       "<div>\n",
       "<style>\n",
       "    .dataframe thead tr:only-child th {\n",
       "        text-align: right;\n",
       "    }\n",
       "\n",
       "    .dataframe thead th {\n",
       "        text-align: left;\n",
       "    }\n",
       "\n",
       "    .dataframe tbody tr th {\n",
       "        vertical-align: top;\n",
       "    }\n",
       "</style>\n",
       "<table border=\"1\" class=\"dataframe\">\n",
       "  <thead>\n",
       "    <tr style=\"text-align: right;\">\n",
       "      <th></th>\n",
       "      <th>ngram</th>\n",
       "      <th>weight</th>\n",
       "    </tr>\n",
       "  </thead>\n",
       "  <tbody>\n",
       "    <tr>\n",
       "      <th>0</th>\n",
       "      <td>спасибо</td>\n",
       "      <td>32.621374</td>\n",
       "    </tr>\n",
       "    <tr>\n",
       "      <th>1</th>\n",
       "      <td>быстро</td>\n",
       "      <td>19.206290</td>\n",
       "    </tr>\n",
       "    <tr>\n",
       "      <th>2</th>\n",
       "      <td>благодарность</td>\n",
       "      <td>19.102888</td>\n",
       "    </tr>\n",
       "    <tr>\n",
       "      <th>3</th>\n",
       "      <td>приятно</td>\n",
       "      <td>16.784856</td>\n",
       "    </tr>\n",
       "    <tr>\n",
       "      <th>4</th>\n",
       "      <td>очень</td>\n",
       "      <td>15.252887</td>\n",
       "    </tr>\n",
       "    <tr>\n",
       "      <th>5</th>\n",
       "      <td>проблем</td>\n",
       "      <td>13.435192</td>\n",
       "    </tr>\n",
       "    <tr>\n",
       "      <th>6</th>\n",
       "      <td>доволен</td>\n",
       "      <td>12.745233</td>\n",
       "    </tr>\n",
       "    <tr>\n",
       "      <th>7</th>\n",
       "      <td>оперативно</td>\n",
       "      <td>12.062838</td>\n",
       "    </tr>\n",
       "    <tr>\n",
       "      <th>8</th>\n",
       "      <td>нравится</td>\n",
       "      <td>11.757259</td>\n",
       "    </tr>\n",
       "    <tr>\n",
       "      <th>9</th>\n",
       "      <td>отзыв</td>\n",
       "      <td>10.895727</td>\n",
       "    </tr>\n",
       "    <tr>\n",
       "      <th>10</th>\n",
       "      <td>понравилось</td>\n",
       "      <td>10.844407</td>\n",
       "    </tr>\n",
       "    <tr>\n",
       "      <th>11</th>\n",
       "      <td>поблагодарить</td>\n",
       "      <td>10.491815</td>\n",
       "    </tr>\n",
       "    <tr>\n",
       "      <th>12</th>\n",
       "      <td>оперативность</td>\n",
       "      <td>10.124926</td>\n",
       "    </tr>\n",
       "    <tr>\n",
       "      <th>13</th>\n",
       "      <td>оценка</td>\n",
       "      <td>10.116562</td>\n",
       "    </tr>\n",
       "    <tr>\n",
       "      <th>14</th>\n",
       "      <td>помощь</td>\n",
       "      <td>10.097947</td>\n",
       "    </tr>\n",
       "    <tr>\n",
       "      <th>15</th>\n",
       "      <td>целом</td>\n",
       "      <td>10.042822</td>\n",
       "    </tr>\n",
       "    <tr>\n",
       "      <th>16</th>\n",
       "      <td>все</td>\n",
       "      <td>9.725901</td>\n",
       "    </tr>\n",
       "    <tr>\n",
       "      <th>17</th>\n",
       "      <td>особенно</td>\n",
       "      <td>9.416643</td>\n",
       "    </tr>\n",
       "    <tr>\n",
       "      <th>18</th>\n",
       "      <td>за</td>\n",
       "      <td>9.378152</td>\n",
       "    </tr>\n",
       "    <tr>\n",
       "      <th>19</th>\n",
       "      <td>для меня</td>\n",
       "      <td>9.185540</td>\n",
       "    </tr>\n",
       "    <tr>\n",
       "      <th>20</th>\n",
       "      <td>всегда</td>\n",
       "      <td>9.071767</td>\n",
       "    </tr>\n",
       "    <tr>\n",
       "      <th>21</th>\n",
       "      <td>спасибо за</td>\n",
       "      <td>8.957590</td>\n",
       "    </tr>\n",
       "    <tr>\n",
       "      <th>22</th>\n",
       "      <td>большое</td>\n",
       "      <td>8.739881</td>\n",
       "    </tr>\n",
       "    <tr>\n",
       "      <th>23</th>\n",
       "      <td>лучший</td>\n",
       "      <td>8.665812</td>\n",
       "    </tr>\n",
       "    <tr>\n",
       "      <th>24</th>\n",
       "      <td>удобный</td>\n",
       "      <td>8.663738</td>\n",
       "    </tr>\n",
       "    <tr>\n",
       "      <th>25</th>\n",
       "      <td>положительный</td>\n",
       "      <td>8.614424</td>\n",
       "    </tr>\n",
       "    <tr>\n",
       "      <th>26</th>\n",
       "      <td>решение</td>\n",
       "      <td>8.595873</td>\n",
       "    </tr>\n",
       "    <tr>\n",
       "      <th>27</th>\n",
       "      <td>удобно</td>\n",
       "      <td>8.525090</td>\n",
       "    </tr>\n",
       "    <tr>\n",
       "      <th>28</th>\n",
       "      <td>выразить</td>\n",
       "      <td>8.522441</td>\n",
       "    </tr>\n",
       "    <tr>\n",
       "      <th>29</th>\n",
       "      <td>скажу</td>\n",
       "      <td>8.301079</td>\n",
       "    </tr>\n",
       "  </tbody>\n",
       "</table>\n",
       "</div>"
      ],
      "text/plain": [
       "            ngram     weight\n",
       "0         спасибо  32.621374\n",
       "1          быстро  19.206290\n",
       "2   благодарность  19.102888\n",
       "3         приятно  16.784856\n",
       "4           очень  15.252887\n",
       "5         проблем  13.435192\n",
       "6         доволен  12.745233\n",
       "7      оперативно  12.062838\n",
       "8        нравится  11.757259\n",
       "9           отзыв  10.895727\n",
       "10    понравилось  10.844407\n",
       "11  поблагодарить  10.491815\n",
       "12  оперативность  10.124926\n",
       "13         оценка  10.116562\n",
       "14         помощь  10.097947\n",
       "15          целом  10.042822\n",
       "16            все   9.725901\n",
       "17       особенно   9.416643\n",
       "18             за   9.378152\n",
       "19       для меня   9.185540\n",
       "20         всегда   9.071767\n",
       "21     спасибо за   8.957590\n",
       "22        большое   8.739881\n",
       "23         лучший   8.665812\n",
       "24        удобный   8.663738\n",
       "25  положительный   8.614424\n",
       "26        решение   8.595873\n",
       "27         удобно   8.525090\n",
       "28       выразить   8.522441\n",
       "29          скажу   8.301079"
      ]
     },
     "execution_count": 33,
     "metadata": {},
     "output_type": "execute_result"
    }
   ],
   "source": [
    "coefs.head(30)"
   ]
  },
  {
   "cell_type": "code",
   "execution_count": 34,
   "metadata": {
    "scrolled": true
   },
   "outputs": [
    {
     "data": {
      "text/html": [
       "<div>\n",
       "<style>\n",
       "    .dataframe thead tr:only-child th {\n",
       "        text-align: right;\n",
       "    }\n",
       "\n",
       "    .dataframe thead th {\n",
       "        text-align: left;\n",
       "    }\n",
       "\n",
       "    .dataframe tbody tr th {\n",
       "        vertical-align: top;\n",
       "    }\n",
       "</style>\n",
       "<table border=\"1\" class=\"dataframe\">\n",
       "  <thead>\n",
       "    <tr style=\"text-align: right;\">\n",
       "      <th></th>\n",
       "      <th>ngram</th>\n",
       "      <th>weight</th>\n",
       "    </tr>\n",
       "  </thead>\n",
       "  <tbody>\n",
       "    <tr>\n",
       "      <th>27050</th>\n",
       "      <td>не</td>\n",
       "      <td>-9.443269</td>\n",
       "    </tr>\n",
       "    <tr>\n",
       "      <th>27049</th>\n",
       "      <td>клиентов</td>\n",
       "      <td>-8.781736</td>\n",
       "    </tr>\n",
       "    <tr>\n",
       "      <th>27048</th>\n",
       "      <td>вы</td>\n",
       "      <td>-8.664855</td>\n",
       "    </tr>\n",
       "    <tr>\n",
       "      <th>27047</th>\n",
       "      <td>не работает</td>\n",
       "      <td>-8.389955</td>\n",
       "    </tr>\n",
       "    <tr>\n",
       "      <th>27046</th>\n",
       "      <td>говорят</td>\n",
       "      <td>-8.386884</td>\n",
       "    </tr>\n",
       "    <tr>\n",
       "      <th>27045</th>\n",
       "      <td>ответ</td>\n",
       "      <td>-8.065434</td>\n",
       "    </tr>\n",
       "    <tr>\n",
       "      <th>27044</th>\n",
       "      <td>потом</td>\n",
       "      <td>-7.781764</td>\n",
       "    </tr>\n",
       "    <tr>\n",
       "      <th>27043</th>\n",
       "      <td>звонки</td>\n",
       "      <td>-7.752011</td>\n",
       "    </tr>\n",
       "    <tr>\n",
       "      <th>27042</th>\n",
       "      <td>евро</td>\n",
       "      <td>-7.224810</td>\n",
       "    </tr>\n",
       "    <tr>\n",
       "      <th>27041</th>\n",
       "      <td>опять</td>\n",
       "      <td>-6.965748</td>\n",
       "    </tr>\n",
       "    <tr>\n",
       "      <th>27040</th>\n",
       "      <td>что</td>\n",
       "      <td>-6.951301</td>\n",
       "    </tr>\n",
       "    <tr>\n",
       "      <th>27039</th>\n",
       "      <td>нет</td>\n",
       "      <td>-6.850009</td>\n",
       "    </tr>\n",
       "    <tr>\n",
       "      <th>27038</th>\n",
       "      <td>никто</td>\n",
       "      <td>-6.431021</td>\n",
       "    </tr>\n",
       "    <tr>\n",
       "      <th>27037</th>\n",
       "      <td>11</td>\n",
       "      <td>-6.352454</td>\n",
       "    </tr>\n",
       "    <tr>\n",
       "      <th>27036</th>\n",
       "      <td>30</td>\n",
       "      <td>-6.271914</td>\n",
       "    </tr>\n",
       "    <tr>\n",
       "      <th>27035</th>\n",
       "      <td>так не</td>\n",
       "      <td>-6.245150</td>\n",
       "    </tr>\n",
       "    <tr>\n",
       "      <th>27034</th>\n",
       "      <td>чтобы</td>\n",
       "      <td>-6.140337</td>\n",
       "    </tr>\n",
       "    <tr>\n",
       "      <th>27033</th>\n",
       "      <td>завтра</td>\n",
       "      <td>-6.106462</td>\n",
       "    </tr>\n",
       "    <tr>\n",
       "      <th>27032</th>\n",
       "      <td>вам</td>\n",
       "      <td>-5.855547</td>\n",
       "    </tr>\n",
       "    <tr>\n",
       "      <th>27031</th>\n",
       "      <td>которые</td>\n",
       "      <td>-5.811831</td>\n",
       "    </tr>\n",
       "    <tr>\n",
       "      <th>27030</th>\n",
       "      <td>видимо</td>\n",
       "      <td>-5.783100</td>\n",
       "    </tr>\n",
       "    <tr>\n",
       "      <th>27029</th>\n",
       "      <td>получить</td>\n",
       "      <td>-5.765767</td>\n",
       "    </tr>\n",
       "    <tr>\n",
       "      <th>27028</th>\n",
       "      <td>хуже</td>\n",
       "      <td>-5.745137</td>\n",
       "    </tr>\n",
       "    <tr>\n",
       "      <th>27027</th>\n",
       "      <td>дата</td>\n",
       "      <td>-5.728184</td>\n",
       "    </tr>\n",
       "    <tr>\n",
       "      <th>27026</th>\n",
       "      <td>за обслуживание</td>\n",
       "      <td>-5.632121</td>\n",
       "    </tr>\n",
       "    <tr>\n",
       "      <th>27025</th>\n",
       "      <td>претензию</td>\n",
       "      <td>-5.570473</td>\n",
       "    </tr>\n",
       "    <tr>\n",
       "      <th>27024</th>\n",
       "      <td>заявление на</td>\n",
       "      <td>-5.534092</td>\n",
       "    </tr>\n",
       "    <tr>\n",
       "      <th>27023</th>\n",
       "      <td>04</td>\n",
       "      <td>-5.533388</td>\n",
       "    </tr>\n",
       "    <tr>\n",
       "      <th>27022</th>\n",
       "      <td>нельзя</td>\n",
       "      <td>-5.508038</td>\n",
       "    </tr>\n",
       "    <tr>\n",
       "      <th>27021</th>\n",
       "      <td>информация</td>\n",
       "      <td>-5.481169</td>\n",
       "    </tr>\n",
       "  </tbody>\n",
       "</table>\n",
       "</div>"
      ],
      "text/plain": [
       "                 ngram    weight\n",
       "27050               не -9.443269\n",
       "27049         клиентов -8.781736\n",
       "27048               вы -8.664855\n",
       "27047      не работает -8.389955\n",
       "27046          говорят -8.386884\n",
       "27045            ответ -8.065434\n",
       "27044            потом -7.781764\n",
       "27043           звонки -7.752011\n",
       "27042             евро -7.224810\n",
       "27041            опять -6.965748\n",
       "27040              что -6.951301\n",
       "27039              нет -6.850009\n",
       "27038            никто -6.431021\n",
       "27037               11 -6.352454\n",
       "27036               30 -6.271914\n",
       "27035           так не -6.245150\n",
       "27034            чтобы -6.140337\n",
       "27033           завтра -6.106462\n",
       "27032              вам -5.855547\n",
       "27031          которые -5.811831\n",
       "27030           видимо -5.783100\n",
       "27029         получить -5.765767\n",
       "27028             хуже -5.745137\n",
       "27027             дата -5.728184\n",
       "27026  за обслуживание -5.632121\n",
       "27025        претензию -5.570473\n",
       "27024     заявление на -5.534092\n",
       "27023               04 -5.533388\n",
       "27022           нельзя -5.508038\n",
       "27021       информация -5.481169"
      ]
     },
     "execution_count": 34,
     "metadata": {},
     "output_type": "execute_result"
    }
   ],
   "source": [
    "coefs.tail(30)[::-1]"
   ]
  }
 ],
 "metadata": {
  "kernelspec": {
   "display_name": "Python 2",
   "language": "python",
   "name": "python2"
  },
  "language_info": {
   "codemirror_mode": {
    "name": "ipython",
    "version": 2
   },
   "file_extension": ".py",
   "mimetype": "text/x-python",
   "name": "python",
   "nbconvert_exporter": "python",
   "pygments_lexer": "ipython2",
   "version": "2.7.13"
  }
 },
 "nbformat": 4,
 "nbformat_minor": 1
}
