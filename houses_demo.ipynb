{
 "cells": [
  {
   "cell_type": "markdown",
   "metadata": {},
   "source": [
    "# Стоимость дома"
   ]
  },
  {
   "cell_type": "code",
   "execution_count": 1,
   "metadata": {
    "collapsed": true
   },
   "outputs": [],
   "source": [
    "import sklearn\n",
    "from sklearn.linear_model import LinearRegression\n",
    "from sklearn.tree import DecisionTreeRegressor\n",
    "from sklearn.ensemble import GradientBoostingRegressor\n",
    "from sklearn.model_selection import train_test_split\n",
    "from sklearn.metrics import mean_squared_error\n",
    "from sklearn.preprocessing import StandardScaler\n",
    "import pandas as pd\n",
    "import numpy as np"
   ]
  },
  {
   "cell_type": "markdown",
   "metadata": {},
   "source": [
    "## Загрузим данные"
   ]
  },
  {
   "cell_type": "code",
   "execution_count": 2,
   "metadata": {},
   "outputs": [
    {
     "name": "stdout",
     "output_type": "stream",
     "text": [
      "17290 4323\n"
     ]
    }
   ],
   "source": [
    "df = pd.read_excel(\"houses.xlsx\")\n",
    "train, test = train_test_split(df, test_size=0.2, random_state=42)\n",
    "print len(train), len(test)"
   ]
  },
  {
   "cell_type": "code",
   "execution_count": 3,
   "metadata": {},
   "outputs": [
    {
     "data": {
      "text/html": [
       "<div>\n",
       "<style>\n",
       "    .dataframe thead tr:only-child th {\n",
       "        text-align: right;\n",
       "    }\n",
       "\n",
       "    .dataframe thead th {\n",
       "        text-align: left;\n",
       "    }\n",
       "\n",
       "    .dataframe tbody tr th {\n",
       "        vertical-align: top;\n",
       "    }\n",
       "</style>\n",
       "<table border=\"1\" class=\"dataframe\">\n",
       "  <thead>\n",
       "    <tr style=\"text-align: right;\">\n",
       "      <th></th>\n",
       "      <th>price</th>\n",
       "      <th>bathrooms</th>\n",
       "      <th>sqft_living</th>\n",
       "      <th>waterfront</th>\n",
       "      <th>view</th>\n",
       "      <th>condition</th>\n",
       "      <th>grade</th>\n",
       "      <th>yr_built</th>\n",
       "      <th>zipcode</th>\n",
       "      <th>lat</th>\n",
       "      <th>long</th>\n",
       "    </tr>\n",
       "  </thead>\n",
       "  <tbody>\n",
       "    <tr>\n",
       "      <th>6325</th>\n",
       "      <td>430000</td>\n",
       "      <td>1.5</td>\n",
       "      <td>1560</td>\n",
       "      <td>0</td>\n",
       "      <td>0</td>\n",
       "      <td>4</td>\n",
       "      <td>7</td>\n",
       "      <td>1962</td>\n",
       "      <td>98007</td>\n",
       "      <td>47.6012</td>\n",
       "      <td>-122.152</td>\n",
       "    </tr>\n",
       "    <tr>\n",
       "      <th>13473</th>\n",
       "      <td>86500</td>\n",
       "      <td>1.0</td>\n",
       "      <td>840</td>\n",
       "      <td>0</td>\n",
       "      <td>0</td>\n",
       "      <td>3</td>\n",
       "      <td>6</td>\n",
       "      <td>1960</td>\n",
       "      <td>98023</td>\n",
       "      <td>47.3277</td>\n",
       "      <td>-122.341</td>\n",
       "    </tr>\n",
       "    <tr>\n",
       "      <th>17614</th>\n",
       "      <td>287500</td>\n",
       "      <td>2.0</td>\n",
       "      <td>1760</td>\n",
       "      <td>0</td>\n",
       "      <td>0</td>\n",
       "      <td>4</td>\n",
       "      <td>6</td>\n",
       "      <td>1936</td>\n",
       "      <td>98055</td>\n",
       "      <td>47.4799</td>\n",
       "      <td>-122.232</td>\n",
       "    </tr>\n",
       "    <tr>\n",
       "      <th>16970</th>\n",
       "      <td>395000</td>\n",
       "      <td>1.0</td>\n",
       "      <td>1100</td>\n",
       "      <td>0</td>\n",
       "      <td>0</td>\n",
       "      <td>3</td>\n",
       "      <td>7</td>\n",
       "      <td>1950</td>\n",
       "      <td>98105</td>\n",
       "      <td>47.6701</td>\n",
       "      <td>-122.286</td>\n",
       "    </tr>\n",
       "    <tr>\n",
       "      <th>20868</th>\n",
       "      <td>295000</td>\n",
       "      <td>2.0</td>\n",
       "      <td>1760</td>\n",
       "      <td>0</td>\n",
       "      <td>0</td>\n",
       "      <td>3</td>\n",
       "      <td>7</td>\n",
       "      <td>1998</td>\n",
       "      <td>98030</td>\n",
       "      <td>47.3838</td>\n",
       "      <td>-122.184</td>\n",
       "    </tr>\n",
       "  </tbody>\n",
       "</table>\n",
       "</div>"
      ],
      "text/plain": [
       "        price  bathrooms  sqft_living  waterfront  view  condition  grade  \\\n",
       "6325   430000        1.5         1560           0     0          4      7   \n",
       "13473   86500        1.0          840           0     0          3      6   \n",
       "17614  287500        2.0         1760           0     0          4      6   \n",
       "16970  395000        1.0         1100           0     0          3      7   \n",
       "20868  295000        2.0         1760           0     0          3      7   \n",
       "\n",
       "       yr_built  zipcode      lat     long  \n",
       "6325       1962    98007  47.6012 -122.152  \n",
       "13473      1960    98023  47.3277 -122.341  \n",
       "17614      1936    98055  47.4799 -122.232  \n",
       "16970      1950    98105  47.6701 -122.286  \n",
       "20868      1998    98030  47.3838 -122.184  "
      ]
     },
     "execution_count": 3,
     "metadata": {},
     "output_type": "execute_result"
    }
   ],
   "source": [
    "train.head(5)"
   ]
  },
  {
   "cell_type": "markdown",
   "metadata": {},
   "source": [
    "## Подготовим признаки"
   ]
  },
  {
   "cell_type": "code",
   "execution_count": 4,
   "metadata": {
    "collapsed": true
   },
   "outputs": [],
   "source": [
    "train_factors = train.drop([\"price\"], axis=1)\n",
    "train_target = train[\"price\"]\n",
    "\n",
    "test_factors = test.drop([\"price\"], axis=1)\n",
    "test_target = test[\"price\"]"
   ]
  },
  {
   "cell_type": "code",
   "execution_count": 5,
   "metadata": {
    "collapsed": true
   },
   "outputs": [],
   "source": [
    "# нормировка признаков\n",
    "scaler = StandardScaler()\n",
    "train_factors = scaler.fit_transform(train_factors)\n",
    "test_factors = scaler.transform(test_factors)"
   ]
  },
  {
   "cell_type": "code",
   "execution_count": 6,
   "metadata": {},
   "outputs": [
    {
     "data": {
      "text/html": [
       "<div>\n",
       "<style>\n",
       "    .dataframe thead tr:only-child th {\n",
       "        text-align: right;\n",
       "    }\n",
       "\n",
       "    .dataframe thead th {\n",
       "        text-align: left;\n",
       "    }\n",
       "\n",
       "    .dataframe tbody tr th {\n",
       "        vertical-align: top;\n",
       "    }\n",
       "</style>\n",
       "<table border=\"1\" class=\"dataframe\">\n",
       "  <thead>\n",
       "    <tr style=\"text-align: right;\">\n",
       "      <th></th>\n",
       "      <th>bathrooms</th>\n",
       "      <th>sqft_living</th>\n",
       "      <th>waterfront</th>\n",
       "      <th>view</th>\n",
       "      <th>condition</th>\n",
       "      <th>grade</th>\n",
       "      <th>yr_built</th>\n",
       "      <th>zipcode</th>\n",
       "      <th>lat</th>\n",
       "      <th>long</th>\n",
       "    </tr>\n",
       "  </thead>\n",
       "  <tbody>\n",
       "    <tr>\n",
       "      <th>0</th>\n",
       "      <td>-0.795076</td>\n",
       "      <td>-0.566231</td>\n",
       "      <td>-0.086701</td>\n",
       "      <td>-0.308659</td>\n",
       "      <td>0.906493</td>\n",
       "      <td>-0.557661</td>\n",
       "      <td>-0.304035</td>\n",
       "      <td>-1.324888</td>\n",
       "      <td>0.288964</td>\n",
       "      <td>0.435537</td>\n",
       "    </tr>\n",
       "    <tr>\n",
       "      <th>1</th>\n",
       "      <td>-1.442520</td>\n",
       "      <td>-1.346468</td>\n",
       "      <td>-0.086701</td>\n",
       "      <td>-0.308659</td>\n",
       "      <td>-0.631609</td>\n",
       "      <td>-1.405380</td>\n",
       "      <td>-0.372139</td>\n",
       "      <td>-1.026161</td>\n",
       "      <td>-1.683103</td>\n",
       "      <td>-0.899824</td>\n",
       "    </tr>\n",
       "    <tr>\n",
       "      <th>2</th>\n",
       "      <td>-0.147632</td>\n",
       "      <td>-0.349498</td>\n",
       "      <td>-0.086701</td>\n",
       "      <td>-0.308659</td>\n",
       "      <td>0.906493</td>\n",
       "      <td>-1.405380</td>\n",
       "      <td>-1.189390</td>\n",
       "      <td>-0.428707</td>\n",
       "      <td>-0.585668</td>\n",
       "      <td>-0.129695</td>\n",
       "    </tr>\n",
       "    <tr>\n",
       "      <th>3</th>\n",
       "      <td>-1.442520</td>\n",
       "      <td>-1.064716</td>\n",
       "      <td>-0.086701</td>\n",
       "      <td>-0.308659</td>\n",
       "      <td>-0.631609</td>\n",
       "      <td>-0.557661</td>\n",
       "      <td>-0.712660</td>\n",
       "      <td>0.504814</td>\n",
       "      <td>0.785766</td>\n",
       "      <td>-0.511227</td>\n",
       "    </tr>\n",
       "  </tbody>\n",
       "</table>\n",
       "</div>"
      ],
      "text/plain": [
       "   bathrooms  sqft_living  waterfront      view  condition     grade  \\\n",
       "0  -0.795076    -0.566231   -0.086701 -0.308659   0.906493 -0.557661   \n",
       "1  -1.442520    -1.346468   -0.086701 -0.308659  -0.631609 -1.405380   \n",
       "2  -0.147632    -0.349498   -0.086701 -0.308659   0.906493 -1.405380   \n",
       "3  -1.442520    -1.064716   -0.086701 -0.308659  -0.631609 -0.557661   \n",
       "\n",
       "   yr_built   zipcode       lat      long  \n",
       "0 -0.304035 -1.324888  0.288964  0.435537  \n",
       "1 -0.372139 -1.026161 -1.683103 -0.899824  \n",
       "2 -1.189390 -0.428707 -0.585668 -0.129695  \n",
       "3 -0.712660  0.504814  0.785766 -0.511227  "
      ]
     },
     "execution_count": 6,
     "metadata": {},
     "output_type": "execute_result"
    }
   ],
   "source": [
    "# посмотрим на нормированные признаки\n",
    "pd.DataFrame(train_factors, columns=train.columns[1:]).head(4)"
   ]
  },
  {
   "cell_type": "markdown",
   "metadata": {},
   "source": [
    "## Линейная модель"
   ]
  },
  {
   "cell_type": "code",
   "execution_count": 7,
   "metadata": {},
   "outputs": [
    {
     "name": "stderr",
     "output_type": "stream",
     "text": [
      "/usr/local/lib/python2.7/site-packages/scipy/linalg/basic.py:1018: RuntimeWarning: internal gelsd driver lwork query error, required iwork dimension not returned. This is likely the result of LAPACK bug 0038, fixed in LAPACK 3.2.2 (released July 21, 2010). Falling back to 'gelss' driver.\n",
      "  warnings.warn(mesg, RuntimeWarning)\n"
     ]
    },
    {
     "data": {
      "text/plain": [
       "LinearRegression(copy_X=True, fit_intercept=True, n_jobs=1, normalize=False)"
      ]
     },
     "execution_count": 7,
     "metadata": {},
     "output_type": "execute_result"
    }
   ],
   "source": [
    "# настроим модель\n",
    "model = LinearRegression()\n",
    "model.fit(train_factors, train_target)"
   ]
  },
  {
   "cell_type": "code",
   "execution_count": 8,
   "metadata": {},
   "outputs": [
    {
     "name": "stdout",
     "output_type": "stream",
     "text": [
      "RMSE: 203114.027309\n"
     ]
    }
   ],
   "source": [
    "# посчитаем качество\n",
    "test_predictions = model.predict(test_factors)\n",
    "print 'RMSE:', np.sqrt(mean_squared_error(test_target, test_predictions))"
   ]
  },
  {
   "cell_type": "code",
   "execution_count": 9,
   "metadata": {},
   "outputs": [
    {
     "data": {
      "text/html": [
       "<div>\n",
       "<style>\n",
       "    .dataframe thead tr:only-child th {\n",
       "        text-align: right;\n",
       "    }\n",
       "\n",
       "    .dataframe thead th {\n",
       "        text-align: left;\n",
       "    }\n",
       "\n",
       "    .dataframe tbody tr th {\n",
       "        vertical-align: top;\n",
       "    }\n",
       "</style>\n",
       "<table border=\"1\" class=\"dataframe\">\n",
       "  <thead>\n",
       "    <tr style=\"text-align: right;\">\n",
       "      <th></th>\n",
       "      <th>weight</th>\n",
       "      <th>feature</th>\n",
       "    </tr>\n",
       "  </thead>\n",
       "  <tbody>\n",
       "    <tr>\n",
       "      <th>0</th>\n",
       "      <td>142926.888109</td>\n",
       "      <td>sqft_living</td>\n",
       "    </tr>\n",
       "    <tr>\n",
       "      <th>1</th>\n",
       "      <td>132216.174524</td>\n",
       "      <td>grade</td>\n",
       "    </tr>\n",
       "    <tr>\n",
       "      <th>2</th>\n",
       "      <td>82538.108268</td>\n",
       "      <td>lat</td>\n",
       "    </tr>\n",
       "    <tr>\n",
       "      <th>3</th>\n",
       "      <td>50558.832467</td>\n",
       "      <td>waterfront</td>\n",
       "    </tr>\n",
       "    <tr>\n",
       "      <th>4</th>\n",
       "      <td>40962.625858</td>\n",
       "      <td>view</td>\n",
       "    </tr>\n",
       "    <tr>\n",
       "      <th>5</th>\n",
       "      <td>23057.596589</td>\n",
       "      <td>bathrooms</td>\n",
       "    </tr>\n",
       "    <tr>\n",
       "      <th>6</th>\n",
       "      <td>12271.930114</td>\n",
       "      <td>condition</td>\n",
       "    </tr>\n",
       "    <tr>\n",
       "      <th>7</th>\n",
       "      <td>-25379.767021</td>\n",
       "      <td>long</td>\n",
       "    </tr>\n",
       "    <tr>\n",
       "      <th>8</th>\n",
       "      <td>-29444.769825</td>\n",
       "      <td>zipcode</td>\n",
       "    </tr>\n",
       "    <tr>\n",
       "      <th>9</th>\n",
       "      <td>-75398.103932</td>\n",
       "      <td>yr_built</td>\n",
       "    </tr>\n",
       "  </tbody>\n",
       "</table>\n",
       "</div>"
      ],
      "text/plain": [
       "          weight      feature\n",
       "0  142926.888109  sqft_living\n",
       "1  132216.174524        grade\n",
       "2   82538.108268          lat\n",
       "3   50558.832467   waterfront\n",
       "4   40962.625858         view\n",
       "5   23057.596589    bathrooms\n",
       "6   12271.930114    condition\n",
       "7  -25379.767021         long\n",
       "8  -29444.769825      zipcode\n",
       "9  -75398.103932     yr_built"
      ]
     },
     "execution_count": 9,
     "metadata": {},
     "output_type": "execute_result"
    }
   ],
   "source": [
    "# веса\n",
    "pd.DataFrame(sorted(zip(model.coef_, train.columns[1:]), reverse=True), columns=[\"weight\", \"feature\"])"
   ]
  },
  {
   "cell_type": "markdown",
   "metadata": {},
   "source": [
    "## Одно дерево решений"
   ]
  },
  {
   "cell_type": "code",
   "execution_count": 10,
   "metadata": {},
   "outputs": [
    {
     "name": "stdout",
     "output_type": "stream",
     "text": [
      "RMSE: 172668.946199\n"
     ]
    }
   ],
   "source": [
    "model = DecisionTreeRegressor(random_state=42)\n",
    "model.fit(train_factors, train_target)\n",
    "test_predictions = model.predict(test_factors)\n",
    "print 'RMSE:', np.sqrt(mean_squared_error(test_target, test_predictions))"
   ]
  },
  {
   "cell_type": "markdown",
   "metadata": {},
   "source": [
    "## Градиентный бустинг"
   ]
  },
  {
   "cell_type": "code",
   "execution_count": 11,
   "metadata": {},
   "outputs": [
    {
     "name": "stdout",
     "output_type": "stream",
     "text": [
      "RMSE: 130771.225761\n"
     ]
    }
   ],
   "source": [
    "model = GradientBoostingRegressor()\n",
    "model.fit(train_factors, train_target)\n",
    "test_predictions = model.predict(test_factors)\n",
    "print 'RMSE:', np.sqrt(mean_squared_error(test_target, test_predictions))"
   ]
  }
 ],
 "metadata": {
  "kernelspec": {
   "display_name": "Python 2",
   "language": "python",
   "name": "python2"
  },
  "language_info": {
   "codemirror_mode": {
    "name": "ipython",
    "version": 2
   },
   "file_extension": ".py",
   "mimetype": "text/x-python",
   "name": "python",
   "nbconvert_exporter": "python",
   "pygments_lexer": "ipython2",
   "version": "2.7.13"
  }
 },
 "nbformat": 4,
 "nbformat_minor": 1
}
